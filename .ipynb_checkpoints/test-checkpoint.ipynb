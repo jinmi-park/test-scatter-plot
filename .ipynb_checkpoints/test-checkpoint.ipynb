{
 "cells": [
  {
   "cell_type": "code",
   "execution_count": 33,
   "id": "760d3f0e",
   "metadata": {},
   "outputs": [
    {
     "name": "stdout",
     "output_type": "stream",
     "text": [
      "    max_temperature  customers\n",
      "0                25        100\n",
      "1                26        110\n",
      "2                32        135\n",
      "3                21         90\n",
      "4                24        120\n",
      "5                20        110\n",
      "6                22        150\n",
      "7                32        160\n",
      "8                30        150\n",
      "9                31        160\n",
      "10               28        100\n",
      "11               29        130\n",
      "12               23        120\n",
      "13               19         90\n",
      "14               33        165\n",
      "15               34        180\n",
      "max_temperature\n",
      "customers\n",
      "    max_temperature  customers\n",
      "0                25        100\n",
      "1                26        110\n",
      "2                32        135\n",
      "3                21         90\n",
      "4                24        120\n",
      "5                20        110\n",
      "6                22        150\n",
      "7                32        160\n",
      "8                30        150\n",
      "9                31        160\n",
      "10               28        100\n",
      "11               29        130\n",
      "12               23        120\n",
      "13               19         90\n",
      "14               33        165\n",
      "15               34        180\n",
      "--------------------------------------\n"
     ]
    },
    {
     "data": {
      "image/png": "[encoded data removed]",
      "text/plain": [
       "<Figure size 432x432 with 3 Axes>"
      ]
     },
     "metadata": {
      "needs_background": "light"
     },
     "output_type": "display_data"
    }
   ],
   "source": [
    "import numpy as np\n",
    "import matplotlib as mpl\n",
    "import matplotlib.pyplot as plt\n",
    "import pandas as pd\n",
    "import seaborn as sns\n",
    "\n",
    "csv_file = './test_data.csv'\n",
    "df = pd.read_csv(csv_file, encoding='cp932')\n",
    "\n",
    "sns.jointplot(x=df.columns[0], y=df.columns[1], data=df, kind='reg')\n",
    "plt.show()"
   ]
  },
  {
   "cell_type": "code",
   "execution_count": null,
   "id": "7950d685",
   "metadata": {},
   "outputs": [],
   "source": []
  },
  {
   "cell_type": "code",
   "execution_count": null,
   "id": "c5983bef",
   "metadata": {},
   "outputs": [],
   "source": []
  }
 ],
 "metadata": {
  "kernelspec": {
   "display_name": "Python 3 (ipykernel)",
   "language": "python",
   "name": "python3"
  },
  "language_info": {
   "codemirror_mode": {
    "name": "ipython",
    "version": 3
   },
   "file_extension": ".py",
   "mimetype": "text/x-python",
   "name": "python",
   "nbconvert_exporter": "python",
   "pygments_lexer": "ipython3",
   "version": "3.9.7"
  }
 },
 "nbformat": 4,
 "nbformat_minor": 5
}
